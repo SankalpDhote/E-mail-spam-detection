{
 "cells": [
  {
   "cell_type": "code",
   "execution_count": 2,
   "id": "ae20a9e0",
   "metadata": {},
   "outputs": [
    {
     "name": "stdout",
     "output_type": "stream",
     "text": [
      "Collecting nltk"
     ]
    },
    {
     "name": "stderr",
     "output_type": "stream",
     "text": [
      "\n",
      "[notice] A new release of pip is available: 23.1.2 -> 23.2.1\n",
      "[notice] To update, run: python.exe -m pip install --upgrade pip\n"
     ]
    },
    {
     "name": "stdout",
     "output_type": "stream",
     "text": [
      "\n",
      "  Downloading nltk-3.8.1-py3-none-any.whl (1.5 MB)\n",
      "                                              0.0/1.5 MB ? eta -:--:--\n",
      "                                              0.0/1.5 MB 1.3 MB/s eta 0:00:02\n",
      "     --                                       0.1/1.5 MB 1.1 MB/s eta 0:00:02\n",
      "     ---                                      0.1/1.5 MB 901.1 kB/s eta 0:00:02\n",
      "     ----                                     0.2/1.5 MB 833.5 kB/s eta 0:00:02\n",
      "     ----                                     0.2/1.5 MB 833.5 kB/s eta 0:00:02\n",
      "     ----                                     0.2/1.5 MB 654.4 kB/s eta 0:00:03\n",
      "     ----                                     0.2/1.5 MB 654.4 kB/s eta 0:00:03\n",
      "     -----                                    0.2/1.5 MB 541.9 kB/s eta 0:00:03\n",
      "     -----                                    0.2/1.5 MB 541.9 kB/s eta 0:00:03\n",
      "     -----                                    0.2/1.5 MB 541.9 kB/s eta 0:00:03\n",
      "     -----                                    0.2/1.5 MB 444.3 kB/s eta 0:00:03\n",
      "     -----                                    0.2/1.5 MB 444.3 kB/s eta 0:00:03\n",
      "     -----                                    0.2/1.5 MB 444.3 kB/s eta 0:00:03\n",
      "     ------                                   0.2/1.5 MB 351.4 kB/s eta 0:00:04\n",
      "     ------                                   0.2/1.5 MB 351.4 kB/s eta 0:00:04\n",
      "     ------                                   0.3/1.5 MB 341.8 kB/s eta 0:00:04\n",
      "     ------                                   0.3/1.5 MB 341.8 kB/s eta 0:00:04\n",
      "     ------                                   0.3/1.5 MB 341.8 kB/s eta 0:00:04\n",
      "     ------                                   0.3/1.5 MB 341.8 kB/s eta 0:00:04\n",
      "     ------                                   0.3/1.5 MB 341.8 kB/s eta 0:00:04\n",
      "     ------                                   0.3/1.5 MB 341.8 kB/s eta 0:00:04\n",
      "     ------                                   0.3/1.5 MB 341.8 kB/s eta 0:00:04\n",
      "     -------                                  0.3/1.5 MB 244.5 kB/s eta 0:00:06\n",
      "     -------                                  0.3/1.5 MB 244.5 kB/s eta 0:00:06\n",
      "     -------                                  0.3/1.5 MB 244.5 kB/s eta 0:00:06\n",
      "     -------                                  0.3/1.5 MB 244.5 kB/s eta 0:00:06\n",
      "     -------                                  0.3/1.5 MB 244.5 kB/s eta 0:00:06\n",
      "     -------                                  0.3/1.5 MB 218.4 kB/s eta 0:00:06\n",
      "     -------                                  0.3/1.5 MB 218.4 kB/s eta 0:00:06\n",
      "     --------                                 0.3/1.5 MB 218.5 kB/s eta 0:00:06\n",
      "     --------                                 0.3/1.5 MB 218.5 kB/s eta 0:00:06\n",
      "     --------                                 0.3/1.5 MB 209.1 kB/s eta 0:00:06\n",
      "     --------                                 0.3/1.5 MB 209.1 kB/s eta 0:00:06\n",
      "     --------                                 0.3/1.5 MB 209.6 kB/s eta 0:00:06\n",
      "     --------                                 0.3/1.5 MB 209.6 kB/s eta 0:00:06\n",
      "     ---------                                0.3/1.5 MB 205.9 kB/s eta 0:00:06\n",
      "     ---------                                0.4/1.5 MB 212.3 kB/s eta 0:00:06\n",
      "     ----------                               0.4/1.5 MB 216.5 kB/s eta 0:00:06\n",
      "     ----------                               0.4/1.5 MB 216.5 kB/s eta 0:00:06\n",
      "     ----------                               0.4/1.5 MB 216.5 kB/s eta 0:00:06\n",
      "     ----------                               0.4/1.5 MB 204.2 kB/s eta 0:00:06\n",
      "     ----------                               0.4/1.5 MB 204.2 kB/s eta 0:00:06\n",
      "     ----------                               0.4/1.5 MB 204.2 kB/s eta 0:00:06\n",
      "     -----------                              0.4/1.5 MB 203.2 kB/s eta 0:00:06\n",
      "     -----------                              0.4/1.5 MB 203.2 kB/s eta 0:00:06\n",
      "     -----------                              0.4/1.5 MB 203.2 kB/s eta 0:00:06\n",
      "     -----------                              0.4/1.5 MB 203.2 kB/s eta 0:00:06\n",
      "     -----------                              0.4/1.5 MB 189.2 kB/s eta 0:00:06\n",
      "     -----------                              0.4/1.5 MB 189.2 kB/s eta 0:00:06\n",
      "     -----------                              0.4/1.5 MB 189.2 kB/s eta 0:00:06\n",
      "     -----------                              0.5/1.5 MB 186.7 kB/s eta 0:00:06\n",
      "     -----------                              0.5/1.5 MB 186.7 kB/s eta 0:00:06\n",
      "     -----------                              0.5/1.5 MB 186.7 kB/s eta 0:00:06\n",
      "     -----------                              0.5/1.5 MB 186.7 kB/s eta 0:00:06\n",
      "     ------------                             0.5/1.5 MB 182.1 kB/s eta 0:00:06\n",
      "     ------------                             0.5/1.5 MB 182.1 kB/s eta 0:00:06\n",
      "     ------------                             0.5/1.5 MB 179.4 kB/s eta 0:00:06\n",
      "     ------------                             0.5/1.5 MB 179.4 kB/s eta 0:00:06\n",
      "     -------------                            0.5/1.5 MB 179.8 kB/s eta 0:00:06\n",
      "     -------------                            0.5/1.5 MB 180.4 kB/s eta 0:00:06\n",
      "     -------------                            0.5/1.5 MB 180.4 kB/s eta 0:00:06\n",
      "     -------------                            0.5/1.5 MB 180.4 kB/s eta 0:00:06\n",
      "     -------------                            0.5/1.5 MB 180.4 kB/s eta 0:00:06\n",
      "     --------------                           0.5/1.5 MB 175.9 kB/s eta 0:00:06\n",
      "     --------------                           0.5/1.5 MB 175.9 kB/s eta 0:00:06\n",
      "     --------------                           0.5/1.5 MB 175.9 kB/s eta 0:00:06\n",
      "     --------------                           0.5/1.5 MB 175.9 kB/s eta 0:00:06\n",
      "     --------------                           0.6/1.5 MB 172.0 kB/s eta 0:00:06\n",
      "     --------------                           0.6/1.5 MB 172.0 kB/s eta 0:00:06\n",
      "     --------------                           0.6/1.5 MB 172.0 kB/s eta 0:00:06\n",
      "     --------------                           0.6/1.5 MB 172.0 kB/s eta 0:00:06\n",
      "     --------------                           0.6/1.5 MB 166.2 kB/s eta 0:00:06\n",
      "     --------------                           0.6/1.5 MB 166.2 kB/s eta 0:00:06\n",
      "     --------------                           0.6/1.5 MB 166.2 kB/s eta 0:00:06\n",
      "     --------------                           0.6/1.5 MB 166.2 kB/s eta 0:00:06\n",
      "     ---------------                          0.6/1.5 MB 163.1 kB/s eta 0:00:06\n",
      "     ---------------                          0.6/1.5 MB 163.1 kB/s eta 0:00:06\n",
      "     ---------------                          0.6/1.5 MB 163.1 kB/s eta 0:00:06\n",
      "     ---------------                          0.6/1.5 MB 163.1 kB/s eta 0:00:06\n",
      "     ---------------                          0.6/1.5 MB 163.1 kB/s eta 0:00:06\n",
      "     ---------------                          0.6/1.5 MB 163.1 kB/s eta 0:00:06\n",
      "     ---------------                          0.6/1.5 MB 163.1 kB/s eta 0:00:06\n",
      "     ---------------                          0.6/1.5 MB 163.1 kB/s eta 0:00:06\n",
      "     ---------------                          0.6/1.5 MB 163.1 kB/s eta 0:00:06\n",
      "     ---------------                          0.6/1.5 MB 163.1 kB/s eta 0:00:06\n",
      "     ---------------                          0.6/1.5 MB 146.5 kB/s eta 0:00:07\n",
      "     ---------------                          0.6/1.5 MB 146.5 kB/s eta 0:00:07\n",
      "     ---------------                          0.6/1.5 MB 146.5 kB/s eta 0:00:07\n",
      "     ----------------                         0.6/1.5 MB 145.9 kB/s eta 0:00:07\n",
      "     ----------------                         0.6/1.5 MB 145.9 kB/s eta 0:00:07\n",
      "     ----------------                         0.6/1.5 MB 147.5 kB/s eta 0:00:06\n",
      "     ----------------                         0.6/1.5 MB 147.5 kB/s eta 0:00:06\n",
      "     -----------------                        0.6/1.5 MB 146.2 kB/s eta 0:00:06\n",
      "     -----------------                        0.6/1.5 MB 146.2 kB/s eta 0:00:06\n",
      "     -----------------                        0.6/1.5 MB 146.2 kB/s eta 0:00:06\n",
      "     -----------------                        0.7/1.5 MB 146.2 kB/s eta 0:00:06\n",
      "     -----------------                        0.7/1.5 MB 146.2 kB/s eta 0:00:06\n",
      "     -----------------                        0.7/1.5 MB 146.2 kB/s eta 0:00:06\n",
      "     -----------------                        0.7/1.5 MB 144.4 kB/s eta 0:00:06\n",
      "     -----------------                        0.7/1.5 MB 144.4 kB/s eta 0:00:06\n",
      "     -----------------                        0.7/1.5 MB 144.4 kB/s eta 0:00:06\n",
      "     ------------------                       0.7/1.5 MB 144.9 kB/s eta 0:00:06\n",
      "     ------------------                       0.7/1.5 MB 144.9 kB/s eta 0:00:06\n",
      "     ------------------                       0.7/1.5 MB 145.9 kB/s eta 0:00:06\n",
      "     ------------------                       0.7/1.5 MB 145.9 kB/s eta 0:00:06\n",
      "     -------------------                      0.7/1.5 MB 144.7 kB/s eta 0:00:06\n",
      "     -------------------                      0.7/1.5 MB 144.7 kB/s eta 0:00:06\n",
      "     -------------------                      0.7/1.5 MB 144.7 kB/s eta 0:00:06\n",
      "     -------------------                      0.7/1.5 MB 144.7 kB/s eta 0:00:06\n",
      "     -------------------                      0.7/1.5 MB 144.7 kB/s eta 0:00:06\n",
      "     -------------------                      0.7/1.5 MB 143.0 kB/s eta 0:00:06\n",
      "     -------------------                      0.7/1.5 MB 143.0 kB/s eta 0:00:06\n",
      "     --------------------                     0.8/1.5 MB 141.5 kB/s eta 0:00:06\n",
      "     --------------------                     0.8/1.5 MB 141.5 kB/s eta 0:00:06\n",
      "     --------------------                     0.8/1.5 MB 141.5 kB/s eta 0:00:06\n",
      "     --------------------                     0.8/1.5 MB 142.5 kB/s eta 0:00:06\n",
      "     --------------------                     0.8/1.5 MB 142.5 kB/s eta 0:00:06\n",
      "     ---------------------                    0.8/1.5 MB 143.4 kB/s eta 0:00:05\n",
      "     ---------------------                    0.8/1.5 MB 143.4 kB/s eta 0:00:05\n",
      "     ---------------------                    0.8/1.5 MB 142.8 kB/s eta 0:00:05\n",
      "     ---------------------                    0.8/1.5 MB 142.8 kB/s eta 0:00:05\n",
      "     ---------------------                    0.8/1.5 MB 144.0 kB/s eta 0:00:05\n",
      "     ---------------------                    0.8/1.5 MB 144.0 kB/s eta 0:00:05\n",
      "     ---------------------                    0.8/1.5 MB 144.0 kB/s eta 0:00:05\n",
      "     ---------------------                    0.8/1.5 MB 144.0 kB/s eta 0:00:05\n",
      "     ---------------------                    0.8/1.5 MB 144.0 kB/s eta 0:00:05\n",
      "     ---------------------                    0.8/1.5 MB 144.0 kB/s eta 0:00:05\n",
      "     ---------------------                    0.8/1.5 MB 144.0 kB/s eta 0:00:05\n",
      "     ---------------------                    0.8/1.5 MB 144.0 kB/s eta 0:00:05\n",
      "     ----------------------                   0.8/1.5 MB 136.5 kB/s eta 0:00:05\n",
      "     ----------------------                   0.8/1.5 MB 136.5 kB/s eta 0:00:05\n",
      "     ----------------------                   0.9/1.5 MB 137.7 kB/s eta 0:00:05\n",
      "     ----------------------                   0.9/1.5 MB 137.7 kB/s eta 0:00:05\n",
      "     ----------------------                   0.9/1.5 MB 137.7 kB/s eta 0:00:05\n",
      "     ----------------------                   0.9/1.5 MB 137.7 kB/s eta 0:00:05\n",
      "     -----------------------                  0.9/1.5 MB 137.5 kB/s eta 0:00:05\n",
      "     -----------------------                  0.9/1.5 MB 137.5 kB/s eta 0:00:05\n",
      "     -----------------------                  0.9/1.5 MB 137.5 kB/s eta 0:00:05\n",
      "     -----------------------                  0.9/1.5 MB 137.5 kB/s eta 0:00:05\n",
      "     -----------------------                  0.9/1.5 MB 137.5 kB/s eta 0:00:05\n",
      "     ------------------------                 0.9/1.5 MB 136.7 kB/s eta 0:00:05\n",
      "     ------------------------                 0.9/1.5 MB 137.2 kB/s eta 0:00:05\n",
      "     ------------------------                 0.9/1.5 MB 139.3 kB/s eta 0:00:05\n",
      "     ------------------------                 0.9/1.5 MB 139.3 kB/s eta 0:00:05\n",
      "     -------------------------                1.0/1.5 MB 140.4 kB/s eta 0:00:04\n",
      "     -------------------------                1.0/1.5 MB 140.4 kB/s eta 0:00:04\n",
      "     -------------------------                1.0/1.5 MB 140.0 kB/s eta 0:00:04\n",
      "     -------------------------                1.0/1.5 MB 140.0 kB/s eta 0:00:04\n",
      "     --------------------------               1.0/1.5 MB 141.7 kB/s eta 0:00:04\n",
      "     --------------------------               1.0/1.5 MB 141.9 kB/s eta 0:00:04\n",
      "     ---------------------------              1.0/1.5 MB 143.9 kB/s eta 0:00:04\n",
      "     ---------------------------              1.0/1.5 MB 145.8 kB/s eta 0:00:04\n",
      "     ---------------------------              1.0/1.5 MB 145.8 kB/s eta 0:00:04\n",
      "     ----------------------------             1.1/1.5 MB 146.4 kB/s eta 0:00:04\n",
      "     ----------------------------             1.1/1.5 MB 146.4 kB/s eta 0:00:04\n",
      "     ----------------------------             1.1/1.5 MB 146.3 kB/s eta 0:00:03\n",
      "     -----------------------------            1.1/1.5 MB 147.8 kB/s eta 0:00:03\n",
      "     -----------------------------            1.1/1.5 MB 147.8 kB/s eta 0:00:03\n",
      "     -----------------------------            1.1/1.5 MB 147.3 kB/s eta 0:00:03\n",
      "     -----------------------------            1.1/1.5 MB 149.1 kB/s eta 0:00:03\n",
      "     -----------------------------            1.1/1.5 MB 149.1 kB/s eta 0:00:03\n",
      "     ------------------------------           1.1/1.5 MB 150.3 kB/s eta 0:00:03\n",
      "     ------------------------------           1.1/1.5 MB 150.3 kB/s eta 0:00:03\n",
      "     ------------------------------           1.1/1.5 MB 150.3 kB/s eta 0:00:03\n",
      "     ------------------------------           1.1/1.5 MB 150.3 kB/s eta 0:00:03\n",
      "     ------------------------------           1.1/1.5 MB 150.3 kB/s eta 0:00:03\n",
      "     ------------------------------           1.1/1.5 MB 150.3 kB/s eta 0:00:03\n",
      "     ------------------------------           1.2/1.5 MB 146.2 kB/s eta 0:00:03\n",
      "     ------------------------------           1.2/1.5 MB 146.2 kB/s eta 0:00:03\n",
      "     ------------------------------           1.2/1.5 MB 146.2 kB/s eta 0:00:03\n",
      "     ------------------------------           1.2/1.5 MB 146.2 kB/s eta 0:00:03\n",
      "     ------------------------------           1.2/1.5 MB 146.2 kB/s eta 0:00:03\n",
      "     ------------------------------           1.2/1.5 MB 146.2 kB/s eta 0:00:03\n",
      "     ------------------------------           1.2/1.5 MB 146.2 kB/s eta 0:00:03\n",
      "     ------------------------------           1.2/1.5 MB 146.2 kB/s eta 0:00:03\n",
      "     -------------------------------          1.2/1.5 MB 141.8 kB/s eta 0:00:03\n",
      "     -------------------------------          1.2/1.5 MB 141.8 kB/s eta 0:00:03\n",
      "     -------------------------------          1.2/1.5 MB 141.8 kB/s eta 0:00:03\n",
      "     -------------------------------          1.2/1.5 MB 141.8 kB/s eta 0:00:03\n",
      "     -------------------------------          1.2/1.5 MB 141.8 kB/s eta 0:00:03\n",
      "     -------------------------------          1.2/1.5 MB 141.8 kB/s eta 0:00:03\n",
      "     -------------------------------          1.2/1.5 MB 141.8 kB/s eta 0:00:03\n",
      "     -------------------------------          1.2/1.5 MB 141.8 kB/s eta 0:00:03\n",
      "     -------------------------------          1.2/1.5 MB 137.3 kB/s eta 0:00:03\n",
      "     -------------------------------          1.2/1.5 MB 137.3 kB/s eta 0:00:03\n",
      "     -------------------------------          1.2/1.5 MB 137.7 kB/s eta 0:00:03\n",
      "     -------------------------------          1.2/1.5 MB 137.7 kB/s eta 0:00:03\n",
      "     -------------------------------          1.2/1.5 MB 137.7 kB/s eta 0:00:03\n",
      "     --------------------------------         1.2/1.5 MB 138.3 kB/s eta 0:00:03\n",
      "     --------------------------------         1.2/1.5 MB 138.3 kB/s eta 0:00:03\n",
      "     --------------------------------         1.2/1.5 MB 138.3 kB/s eta 0:00:03\n",
      "     --------------------------------         1.2/1.5 MB 138.3 kB/s eta 0:00:03\n",
      "     --------------------------------         1.2/1.5 MB 138.3 kB/s eta 0:00:03\n",
      "     --------------------------------         1.2/1.5 MB 138.3 kB/s eta 0:00:03\n",
      "     --------------------------------         1.2/1.5 MB 138.3 kB/s eta 0:00:03\n",
      "     --------------------------------         1.2/1.5 MB 134.2 kB/s eta 0:00:03\n",
      "     --------------------------------         1.2/1.5 MB 134.2 kB/s eta 0:00:03\n",
      "     ---------------------------------        1.3/1.5 MB 134.8 kB/s eta 0:00:02\n",
      "     ---------------------------------        1.3/1.5 MB 134.8 kB/s eta 0:00:02\n",
      "     ---------------------------------        1.3/1.5 MB 134.8 kB/s eta 0:00:02\n",
      "     ---------------------------------        1.3/1.5 MB 134.3 kB/s eta 0:00:02\n",
      "     ---------------------------------        1.3/1.5 MB 134.3 kB/s eta 0:00:02\n",
      "     ----------------------------------       1.3/1.5 MB 135.0 kB/s eta 0:00:02\n",
      "     ----------------------------------       1.3/1.5 MB 135.0 kB/s eta 0:00:02\n",
      "     ----------------------------------       1.3/1.5 MB 135.0 kB/s eta 0:00:02\n",
      "     ----------------------------------       1.3/1.5 MB 133.8 kB/s eta 0:00:02\n",
      "     ----------------------------------       1.3/1.5 MB 133.8 kB/s eta 0:00:02\n",
      "     ----------------------------------       1.3/1.5 MB 134.0 kB/s eta 0:00:02\n",
      "     -----------------------------------      1.3/1.5 MB 135.3 kB/s eta 0:00:02\n",
      "     -----------------------------------      1.4/1.5 MB 136.5 kB/s eta 0:00:02\n",
      "     -----------------------------------      1.4/1.5 MB 136.5 kB/s eta 0:00:02\n",
      "     -----------------------------------      1.4/1.5 MB 136.5 kB/s eta 0:00:02\n",
      "     ------------------------------------     1.4/1.5 MB 136.0 kB/s eta 0:00:02\n",
      "     ------------------------------------     1.4/1.5 MB 136.0 kB/s eta 0:00:02\n",
      "     ------------------------------------     1.4/1.5 MB 136.4 kB/s eta 0:00:01\n",
      "     ------------------------------------     1.4/1.5 MB 136.4 kB/s eta 0:00:01\n",
      "     ------------------------------------     1.4/1.5 MB 136.4 kB/s eta 0:00:01\n",
      "     ------------------------------------     1.4/1.5 MB 136.4 kB/s eta 0:00:01\n",
      "     ------------------------------------     1.4/1.5 MB 135.3 kB/s eta 0:00:01\n",
      "     -------------------------------------    1.4/1.5 MB 136.7 kB/s eta 0:00:01\n",
      "     -------------------------------------    1.4/1.5 MB 137.6 kB/s eta 0:00:01\n",
      "     --------------------------------------   1.4/1.5 MB 138.0 kB/s eta 0:00:01\n",
      "     --------------------------------------   1.4/1.5 MB 138.0 kB/s eta 0:00:01\n",
      "     --------------------------------------   1.4/1.5 MB 138.0 kB/s eta 0:00:01\n",
      "     --------------------------------------   1.5/1.5 MB 138.5 kB/s eta 0:00:01\n",
      "     --------------------------------------   1.5/1.5 MB 138.5 kB/s eta 0:00:01\n",
      "     --------------------------------------   1.5/1.5 MB 138.5 kB/s eta 0:00:01\n",
      "     ---------------------------------------  1.5/1.5 MB 137.6 kB/s eta 0:00:01\n",
      "     ---------------------------------------  1.5/1.5 MB 137.6 kB/s eta 0:00:01\n",
      "     ---------------------------------------  1.5/1.5 MB 138.3 kB/s eta 0:00:01\n",
      "     ---------------------------------------  1.5/1.5 MB 138.7 kB/s eta 0:00:01\n",
      "     ---------------------------------------  1.5/1.5 MB 138.7 kB/s eta 0:00:01\n",
      "     ---------------------------------------- 1.5/1.5 MB 138.0 kB/s eta 0:00:00\n",
      "Collecting click (from nltk)\n",
      "  Downloading click-8.1.6-py3-none-any.whl (97 kB)\n",
      "                                              0.0/97.9 kB ? eta -:--:--\n",
      "                                              0.0/97.9 kB ? eta -:--:--\n",
      "                                              0.0/97.9 kB ? eta -:--:--\n",
      "     ----                                     10.2/97.9 kB ? eta -:--:--\n",
      "     -----------                            30.7/97.9 kB 325.1 kB/s eta 0:00:01\n",
      "     ---------------                        41.0/97.9 kB 279.3 kB/s eta 0:00:01\n",
      "     -----------------------                61.4/97.9 kB 297.7 kB/s eta 0:00:01\n",
      "     -------------------------------        81.9/97.9 kB 353.1 kB/s eta 0:00:01\n",
      "     -------------------------------        81.9/97.9 kB 353.1 kB/s eta 0:00:01\n",
      "     -----------------------------------    92.2/97.9 kB 261.7 kB/s eta 0:00:01\n",
      "     -----------------------------------    92.2/97.9 kB 261.7 kB/s eta 0:00:01\n",
      "     -------------------------------------- 97.9/97.9 kB 224.2 kB/s eta 0:00:00\n",
      "Requirement already satisfied: joblib in c:\\users\\sankalp\\appdata\\local\\programs\\python\\python38\\lib\\site-packages (from nltk) (1.3.2)\n",
      "Collecting regex>=2021.8.3 (from nltk)\n",
      "  Downloading regex-2023.8.8-cp38-cp38-win_amd64.whl (268 kB)\n",
      "                                              0.0/268.3 kB ? eta -:--:--\n",
      "                                              0.0/268.3 kB ? eta -:--:--\n",
      "                                              0.0/268.3 kB ? eta -:--:--\n",
      "     -                                        10.2/268.3 kB ? eta -:--:--\n",
      "     --                                    20.5/268.3 kB 217.9 kB/s eta 0:00:02\n",
      "     ----                                  30.7/268.3 kB 330.3 kB/s eta 0:00:01\n",
      "     ----                                  30.7/268.3 kB 330.3 kB/s eta 0:00:01\n",
      "     ----                                  30.7/268.3 kB 330.3 kB/s eta 0:00:01\n",
      "     ----                                  30.7/268.3 kB 330.3 kB/s eta 0:00:01\n",
      "     ----                                  30.7/268.3 kB 330.3 kB/s eta 0:00:01\n",
      "     ----                                  30.7/268.3 kB 330.3 kB/s eta 0:00:01\n",
      "     ----                                  30.7/268.3 kB 330.3 kB/s eta 0:00:01\n",
      "     ----                                  30.7/268.3 kB 330.3 kB/s eta 0:00:01\n",
      "     -----                                  41.0/268.3 kB 63.5 kB/s eta 0:00:04\n",
      "     -----                                  41.0/268.3 kB 63.5 kB/s eta 0:00:04\n",
      "     --------                               61.4/268.3 kB 88.6 kB/s eta 0:00:03\n",
      "     --------                               61.4/268.3 kB 88.6 kB/s eta 0:00:03\n",
      "     -----------                           81.9/268.3 kB 106.7 kB/s eta 0:00:02\n",
      "     -----------                           81.9/268.3 kB 106.7 kB/s eta 0:00:02\n",
      "     ---------------                      112.6/268.3 kB 133.7 kB/s eta 0:00:02\n",
      "     ---------------                      112.6/268.3 kB 133.7 kB/s eta 0:00:02\n",
      "     ---------------                      112.6/268.3 kB 133.7 kB/s eta 0:00:02\n",
      "     ---------------                      112.6/268.3 kB 133.7 kB/s eta 0:00:02\n",
      "     ---------------                      112.6/268.3 kB 133.7 kB/s eta 0:00:02\n",
      "     ---------------                      112.6/268.3 kB 133.7 kB/s eta 0:00:02\n",
      "     ---------------                      112.6/268.3 kB 133.7 kB/s eta 0:00:02\n",
      "     ----------------                     122.9/268.3 kB 103.0 kB/s eta 0:00:02\n",
      "     -------------------                  143.4/268.3 kB 115.2 kB/s eta 0:00:02\n",
      "     -------------------                  143.4/268.3 kB 115.2 kB/s eta 0:00:02\n",
      "     ---------------------                163.8/268.3 kB 121.3 kB/s eta 0:00:01\n",
      "     ---------------------                163.8/268.3 kB 121.3 kB/s eta 0:00:01\n",
      "     -----------------------              174.1/268.3 kB 121.9 kB/s eta 0:00:01\n",
      "     -----------------------              174.1/268.3 kB 121.9 kB/s eta 0:00:01\n",
      "     --------------------------           194.6/268.3 kB 125.5 kB/s eta 0:00:01\n",
      "     --------------------------           194.6/268.3 kB 125.5 kB/s eta 0:00:01\n",
      "     --------------------------           194.6/268.3 kB 125.5 kB/s eta 0:00:01\n",
      "     --------------------------           194.6/268.3 kB 125.5 kB/s eta 0:00:01\n",
      "     --------------------------           194.6/268.3 kB 125.5 kB/s eta 0:00:01\n",
      "     --------------------------           194.6/268.3 kB 125.5 kB/s eta 0:00:01\n",
      "     ---------------------------          204.8/268.3 kB 111.2 kB/s eta 0:00:01\n",
      "     ---------------------------          204.8/268.3 kB 111.2 kB/s eta 0:00:01\n",
      "     ------------------------------       225.3/268.3 kB 116.6 kB/s eta 0:00:01\n",
      "     ------------------------------       225.3/268.3 kB 116.6 kB/s eta 0:00:01\n",
      "     ------------------------------       225.3/268.3 kB 116.6 kB/s eta 0:00:01\n",
      "     ------------------------------       225.3/268.3 kB 116.6 kB/s eta 0:00:01\n",
      "     --------------------------------     245.8/268.3 kB 115.1 kB/s eta 0:00:01\n",
      "     --------------------------------     245.8/268.3 kB 115.1 kB/s eta 0:00:01\n",
      "     --------------------------------     245.8/268.3 kB 115.1 kB/s eta 0:00:01\n",
      "     ------------------------------------ 268.3/268.3 kB 117.2 kB/s eta 0:00:00\n",
      "Requirement already satisfied: tqdm in c:\\users\\sankalp\\appdata\\local\\programs\\python\\python38\\lib\\site-packages (from nltk) (4.64.1)\n",
      "Requirement already satisfied: colorama in c:\\users\\sankalp\\appdata\\local\\programs\\python\\python38\\lib\\site-packages (from click->nltk) (0.4.5)\n",
      "Installing collected packages: regex, click, nltk\n",
      "Successfully installed click-8.1.6 nltk-3.8.1 regex-2023.8.8\n"
     ]
    }
   ],
   "source": [
    "!pip install nltk"
   ]
  },
  {
   "cell_type": "code",
   "execution_count": 3,
   "id": "96d8fc5e",
   "metadata": {},
   "outputs": [],
   "source": [
    "import pandas as pd\n",
    "import numpy as np\n",
    "from sklearn.model_selection import train_test_split\n",
    "from sklearn.feature_extraction.text import TfidfVectorizer\n",
    "from sklearn.linear_model import LogisticRegression\n",
    "from sklearn.metrics import accuracy_score, confusion_matrix, roc_curve, roc_auc_score\n",
    "import nltk\n",
    "from nltk.corpus import stopwords\n",
    "from collections import Counter\n",
    "\n",
    "# Libraries for visualisation\n",
    "\n",
    "import matplotlib.pyplot as plt\n",
    "import seaborn as sns"
   ]
  },
  {
   "cell_type": "code",
   "execution_count": 4,
   "id": "3733f202",
   "metadata": {},
   "outputs": [
    {
     "name": "stderr",
     "output_type": "stream",
     "text": [
      "[nltk_data] Downloading package stopwords to\n",
      "[nltk_data]     C:\\Users\\Sankalp\\AppData\\Roaming\\nltk_data...\n",
      "[nltk_data]   Unzipping corpora\\stopwords.zip.\n"
     ]
    },
    {
     "data": {
      "text/plain": [
       "True"
      ]
     },
     "execution_count": 4,
     "metadata": {},
     "output_type": "execute_result"
    }
   ],
   "source": [
    "nltk.download('stopwords')"
   ]
  },
  {
   "cell_type": "code",
   "execution_count": 10,
   "id": "d84edd70",
   "metadata": {},
   "outputs": [
    {
     "data": {
      "text/html": [
       "<div>\n",
       "<style scoped>\n",
       "    .dataframe tbody tr th:only-of-type {\n",
       "        vertical-align: middle;\n",
       "    }\n",
       "\n",
       "    .dataframe tbody tr th {\n",
       "        vertical-align: top;\n",
       "    }\n",
       "\n",
       "    .dataframe thead th {\n",
       "        text-align: right;\n",
       "    }\n",
       "</style>\n",
       "<table border=\"1\" class=\"dataframe\">\n",
       "  <thead>\n",
       "    <tr style=\"text-align: right;\">\n",
       "      <th></th>\n",
       "      <th>v1</th>\n",
       "      <th>v2</th>\n",
       "      <th>Unnamed: 2</th>\n",
       "      <th>Unnamed: 3</th>\n",
       "      <th>Unnamed: 4</th>\n",
       "    </tr>\n",
       "  </thead>\n",
       "  <tbody>\n",
       "    <tr>\n",
       "      <th>0</th>\n",
       "      <td>ham</td>\n",
       "      <td>Go until jurong point, crazy.. Available only ...</td>\n",
       "      <td>NaN</td>\n",
       "      <td>NaN</td>\n",
       "      <td>NaN</td>\n",
       "    </tr>\n",
       "    <tr>\n",
       "      <th>1</th>\n",
       "      <td>ham</td>\n",
       "      <td>Ok lar... Joking wif u oni...</td>\n",
       "      <td>NaN</td>\n",
       "      <td>NaN</td>\n",
       "      <td>NaN</td>\n",
       "    </tr>\n",
       "    <tr>\n",
       "      <th>2</th>\n",
       "      <td>spam</td>\n",
       "      <td>Free entry in 2 a wkly comp to win FA Cup fina...</td>\n",
       "      <td>NaN</td>\n",
       "      <td>NaN</td>\n",
       "      <td>NaN</td>\n",
       "    </tr>\n",
       "    <tr>\n",
       "      <th>3</th>\n",
       "      <td>ham</td>\n",
       "      <td>U dun say so early hor... U c already then say...</td>\n",
       "      <td>NaN</td>\n",
       "      <td>NaN</td>\n",
       "      <td>NaN</td>\n",
       "    </tr>\n",
       "    <tr>\n",
       "      <th>4</th>\n",
       "      <td>ham</td>\n",
       "      <td>Nah I don't think he goes to usf, he lives aro...</td>\n",
       "      <td>NaN</td>\n",
       "      <td>NaN</td>\n",
       "      <td>NaN</td>\n",
       "    </tr>\n",
       "    <tr>\n",
       "      <th>...</th>\n",
       "      <td>...</td>\n",
       "      <td>...</td>\n",
       "      <td>...</td>\n",
       "      <td>...</td>\n",
       "      <td>...</td>\n",
       "    </tr>\n",
       "    <tr>\n",
       "      <th>5567</th>\n",
       "      <td>spam</td>\n",
       "      <td>This is the 2nd time we have tried 2 contact u...</td>\n",
       "      <td>NaN</td>\n",
       "      <td>NaN</td>\n",
       "      <td>NaN</td>\n",
       "    </tr>\n",
       "    <tr>\n",
       "      <th>5568</th>\n",
       "      <td>ham</td>\n",
       "      <td>Will Ì_ b going to esplanade fr home?</td>\n",
       "      <td>NaN</td>\n",
       "      <td>NaN</td>\n",
       "      <td>NaN</td>\n",
       "    </tr>\n",
       "    <tr>\n",
       "      <th>5569</th>\n",
       "      <td>ham</td>\n",
       "      <td>Pity, * was in mood for that. So...any other s...</td>\n",
       "      <td>NaN</td>\n",
       "      <td>NaN</td>\n",
       "      <td>NaN</td>\n",
       "    </tr>\n",
       "    <tr>\n",
       "      <th>5570</th>\n",
       "      <td>ham</td>\n",
       "      <td>The guy did some bitching but I acted like i'd...</td>\n",
       "      <td>NaN</td>\n",
       "      <td>NaN</td>\n",
       "      <td>NaN</td>\n",
       "    </tr>\n",
       "    <tr>\n",
       "      <th>5571</th>\n",
       "      <td>ham</td>\n",
       "      <td>Rofl. Its true to its name</td>\n",
       "      <td>NaN</td>\n",
       "      <td>NaN</td>\n",
       "      <td>NaN</td>\n",
       "    </tr>\n",
       "  </tbody>\n",
       "</table>\n",
       "<p>5572 rows × 5 columns</p>\n",
       "</div>"
      ],
      "text/plain": [
       "        v1                                                 v2 Unnamed: 2  \\\n",
       "0      ham  Go until jurong point, crazy.. Available only ...        NaN   \n",
       "1      ham                      Ok lar... Joking wif u oni...        NaN   \n",
       "2     spam  Free entry in 2 a wkly comp to win FA Cup fina...        NaN   \n",
       "3      ham  U dun say so early hor... U c already then say...        NaN   \n",
       "4      ham  Nah I don't think he goes to usf, he lives aro...        NaN   \n",
       "...    ...                                                ...        ...   \n",
       "5567  spam  This is the 2nd time we have tried 2 contact u...        NaN   \n",
       "5568   ham              Will Ì_ b going to esplanade fr home?        NaN   \n",
       "5569   ham  Pity, * was in mood for that. So...any other s...        NaN   \n",
       "5570   ham  The guy did some bitching but I acted like i'd...        NaN   \n",
       "5571   ham                         Rofl. Its true to its name        NaN   \n",
       "\n",
       "     Unnamed: 3 Unnamed: 4  \n",
       "0           NaN        NaN  \n",
       "1           NaN        NaN  \n",
       "2           NaN        NaN  \n",
       "3           NaN        NaN  \n",
       "4           NaN        NaN  \n",
       "...         ...        ...  \n",
       "5567        NaN        NaN  \n",
       "5568        NaN        NaN  \n",
       "5569        NaN        NaN  \n",
       "5570        NaN        NaN  \n",
       "5571        NaN        NaN  \n",
       "\n",
       "[5572 rows x 5 columns]"
      ]
     },
     "execution_count": 10,
     "metadata": {},
     "output_type": "execute_result"
    }
   ],
   "source": [
    "df = pd.read_csv(r\"D:\\spam\\spam.csv\",encoding='latin-1')\n",
    "df"
   ]
  },
  {
   "cell_type": "code",
   "execution_count": 11,
   "id": "20ac86db",
   "metadata": {},
   "outputs": [
    {
     "name": "stdout",
     "output_type": "stream",
     "text": [
      "<class 'pandas.core.frame.DataFrame'>\n",
      "RangeIndex: 5572 entries, 0 to 5571\n",
      "Data columns (total 5 columns):\n",
      " #   Column      Non-Null Count  Dtype \n",
      "---  ------      --------------  ----- \n",
      " 0   v1          5572 non-null   object\n",
      " 1   v2          5572 non-null   object\n",
      " 2   Unnamed: 2  50 non-null     object\n",
      " 3   Unnamed: 3  12 non-null     object\n",
      " 4   Unnamed: 4  6 non-null      object\n",
      "dtypes: object(5)\n",
      "memory usage: 217.8+ KB\n"
     ]
    }
   ],
   "source": [
    "df.info()\n"
   ]
  },
  {
   "cell_type": "code",
   "execution_count": 12,
   "id": "34c40cf3",
   "metadata": {},
   "outputs": [],
   "source": [
    "columns_to_drop = [\"Unnamed: 2\", \"Unnamed: 3\", \"Unnamed: 4\"]\n",
    "df.drop(columns=columns_to_drop, inplace=True)"
   ]
  },
  {
   "cell_type": "code",
   "execution_count": 13,
   "id": "44c1c936",
   "metadata": {},
   "outputs": [
    {
     "data": {
      "text/html": [
       "<div>\n",
       "<style scoped>\n",
       "    .dataframe tbody tr th:only-of-type {\n",
       "        vertical-align: middle;\n",
       "    }\n",
       "\n",
       "    .dataframe tbody tr th {\n",
       "        vertical-align: top;\n",
       "    }\n",
       "\n",
       "    .dataframe thead th {\n",
       "        text-align: right;\n",
       "    }\n",
       "</style>\n",
       "<table border=\"1\" class=\"dataframe\">\n",
       "  <thead>\n",
       "    <tr style=\"text-align: right;\">\n",
       "      <th></th>\n",
       "      <th>v1</th>\n",
       "      <th>v2</th>\n",
       "    </tr>\n",
       "  </thead>\n",
       "  <tbody>\n",
       "    <tr>\n",
       "      <th>0</th>\n",
       "      <td>ham</td>\n",
       "      <td>Go until jurong point, crazy.. Available only ...</td>\n",
       "    </tr>\n",
       "    <tr>\n",
       "      <th>1</th>\n",
       "      <td>ham</td>\n",
       "      <td>Ok lar... Joking wif u oni...</td>\n",
       "    </tr>\n",
       "    <tr>\n",
       "      <th>2</th>\n",
       "      <td>spam</td>\n",
       "      <td>Free entry in 2 a wkly comp to win FA Cup fina...</td>\n",
       "    </tr>\n",
       "    <tr>\n",
       "      <th>3</th>\n",
       "      <td>ham</td>\n",
       "      <td>U dun say so early hor... U c already then say...</td>\n",
       "    </tr>\n",
       "    <tr>\n",
       "      <th>4</th>\n",
       "      <td>ham</td>\n",
       "      <td>Nah I don't think he goes to usf, he lives aro...</td>\n",
       "    </tr>\n",
       "    <tr>\n",
       "      <th>...</th>\n",
       "      <td>...</td>\n",
       "      <td>...</td>\n",
       "    </tr>\n",
       "    <tr>\n",
       "      <th>5567</th>\n",
       "      <td>spam</td>\n",
       "      <td>This is the 2nd time we have tried 2 contact u...</td>\n",
       "    </tr>\n",
       "    <tr>\n",
       "      <th>5568</th>\n",
       "      <td>ham</td>\n",
       "      <td>Will Ì_ b going to esplanade fr home?</td>\n",
       "    </tr>\n",
       "    <tr>\n",
       "      <th>5569</th>\n",
       "      <td>ham</td>\n",
       "      <td>Pity, * was in mood for that. So...any other s...</td>\n",
       "    </tr>\n",
       "    <tr>\n",
       "      <th>5570</th>\n",
       "      <td>ham</td>\n",
       "      <td>The guy did some bitching but I acted like i'd...</td>\n",
       "    </tr>\n",
       "    <tr>\n",
       "      <th>5571</th>\n",
       "      <td>ham</td>\n",
       "      <td>Rofl. Its true to its name</td>\n",
       "    </tr>\n",
       "  </tbody>\n",
       "</table>\n",
       "<p>5572 rows × 2 columns</p>\n",
       "</div>"
      ],
      "text/plain": [
       "        v1                                                 v2\n",
       "0      ham  Go until jurong point, crazy.. Available only ...\n",
       "1      ham                      Ok lar... Joking wif u oni...\n",
       "2     spam  Free entry in 2 a wkly comp to win FA Cup fina...\n",
       "3      ham  U dun say so early hor... U c already then say...\n",
       "4      ham  Nah I don't think he goes to usf, he lives aro...\n",
       "...    ...                                                ...\n",
       "5567  spam  This is the 2nd time we have tried 2 contact u...\n",
       "5568   ham              Will Ì_ b going to esplanade fr home?\n",
       "5569   ham  Pity, * was in mood for that. So...any other s...\n",
       "5570   ham  The guy did some bitching but I acted like i'd...\n",
       "5571   ham                         Rofl. Its true to its name\n",
       "\n",
       "[5572 rows x 2 columns]"
      ]
     },
     "execution_count": 13,
     "metadata": {},
     "output_type": "execute_result"
    }
   ],
   "source": [
    "df"
   ]
  },
  {
   "cell_type": "code",
   "execution_count": 14,
   "id": "8fb67bb3",
   "metadata": {},
   "outputs": [],
   "source": [
    "new_column_names = {\"v1\":\"Category\",\"v2\":\"Message\"}\n",
    "df.rename(columns = new_column_names,inplace = True)"
   ]
  },
  {
   "cell_type": "code",
   "execution_count": 15,
   "id": "2a1bcfba",
   "metadata": {},
   "outputs": [
    {
     "data": {
      "text/html": [
       "<div>\n",
       "<style scoped>\n",
       "    .dataframe tbody tr th:only-of-type {\n",
       "        vertical-align: middle;\n",
       "    }\n",
       "\n",
       "    .dataframe tbody tr th {\n",
       "        vertical-align: top;\n",
       "    }\n",
       "\n",
       "    .dataframe thead th {\n",
       "        text-align: right;\n",
       "    }\n",
       "</style>\n",
       "<table border=\"1\" class=\"dataframe\">\n",
       "  <thead>\n",
       "    <tr style=\"text-align: right;\">\n",
       "      <th></th>\n",
       "      <th>Category</th>\n",
       "      <th>Message</th>\n",
       "    </tr>\n",
       "  </thead>\n",
       "  <tbody>\n",
       "    <tr>\n",
       "      <th>0</th>\n",
       "      <td>ham</td>\n",
       "      <td>Go until jurong point, crazy.. Available only ...</td>\n",
       "    </tr>\n",
       "    <tr>\n",
       "      <th>1</th>\n",
       "      <td>ham</td>\n",
       "      <td>Ok lar... Joking wif u oni...</td>\n",
       "    </tr>\n",
       "    <tr>\n",
       "      <th>2</th>\n",
       "      <td>spam</td>\n",
       "      <td>Free entry in 2 a wkly comp to win FA Cup fina...</td>\n",
       "    </tr>\n",
       "    <tr>\n",
       "      <th>3</th>\n",
       "      <td>ham</td>\n",
       "      <td>U dun say so early hor... U c already then say...</td>\n",
       "    </tr>\n",
       "    <tr>\n",
       "      <th>4</th>\n",
       "      <td>ham</td>\n",
       "      <td>Nah I don't think he goes to usf, he lives aro...</td>\n",
       "    </tr>\n",
       "    <tr>\n",
       "      <th>...</th>\n",
       "      <td>...</td>\n",
       "      <td>...</td>\n",
       "    </tr>\n",
       "    <tr>\n",
       "      <th>5567</th>\n",
       "      <td>spam</td>\n",
       "      <td>This is the 2nd time we have tried 2 contact u...</td>\n",
       "    </tr>\n",
       "    <tr>\n",
       "      <th>5568</th>\n",
       "      <td>ham</td>\n",
       "      <td>Will Ì_ b going to esplanade fr home?</td>\n",
       "    </tr>\n",
       "    <tr>\n",
       "      <th>5569</th>\n",
       "      <td>ham</td>\n",
       "      <td>Pity, * was in mood for that. So...any other s...</td>\n",
       "    </tr>\n",
       "    <tr>\n",
       "      <th>5570</th>\n",
       "      <td>ham</td>\n",
       "      <td>The guy did some bitching but I acted like i'd...</td>\n",
       "    </tr>\n",
       "    <tr>\n",
       "      <th>5571</th>\n",
       "      <td>ham</td>\n",
       "      <td>Rofl. Its true to its name</td>\n",
       "    </tr>\n",
       "  </tbody>\n",
       "</table>\n",
       "<p>5572 rows × 2 columns</p>\n",
       "</div>"
      ],
      "text/plain": [
       "     Category                                            Message\n",
       "0         ham  Go until jurong point, crazy.. Available only ...\n",
       "1         ham                      Ok lar... Joking wif u oni...\n",
       "2        spam  Free entry in 2 a wkly comp to win FA Cup fina...\n",
       "3         ham  U dun say so early hor... U c already then say...\n",
       "4         ham  Nah I don't think he goes to usf, he lives aro...\n",
       "...       ...                                                ...\n",
       "5567     spam  This is the 2nd time we have tried 2 contact u...\n",
       "5568      ham              Will Ì_ b going to esplanade fr home?\n",
       "5569      ham  Pity, * was in mood for that. So...any other s...\n",
       "5570      ham  The guy did some bitching but I acted like i'd...\n",
       "5571      ham                         Rofl. Its true to its name\n",
       "\n",
       "[5572 rows x 2 columns]"
      ]
     },
     "execution_count": 15,
     "metadata": {},
     "output_type": "execute_result"
    }
   ],
   "source": [
    "df"
   ]
  },
  {
   "cell_type": "code",
   "execution_count": 16,
   "id": "c50c9d82",
   "metadata": {},
   "outputs": [],
   "source": [
    "data = df.where((pd.notnull(df)), ' ')"
   ]
  },
  {
   "cell_type": "code",
   "execution_count": 17,
   "id": "46987734",
   "metadata": {},
   "outputs": [
    {
     "data": {
      "text/html": [
       "<div>\n",
       "<style scoped>\n",
       "    .dataframe tbody tr th:only-of-type {\n",
       "        vertical-align: middle;\n",
       "    }\n",
       "\n",
       "    .dataframe tbody tr th {\n",
       "        vertical-align: top;\n",
       "    }\n",
       "\n",
       "    .dataframe thead th {\n",
       "        text-align: right;\n",
       "    }\n",
       "</style>\n",
       "<table border=\"1\" class=\"dataframe\">\n",
       "  <thead>\n",
       "    <tr style=\"text-align: right;\">\n",
       "      <th></th>\n",
       "      <th>Category</th>\n",
       "      <th>Message</th>\n",
       "    </tr>\n",
       "  </thead>\n",
       "  <tbody>\n",
       "    <tr>\n",
       "      <th>0</th>\n",
       "      <td>ham</td>\n",
       "      <td>Go until jurong point, crazy.. Available only ...</td>\n",
       "    </tr>\n",
       "    <tr>\n",
       "      <th>1</th>\n",
       "      <td>ham</td>\n",
       "      <td>Ok lar... Joking wif u oni...</td>\n",
       "    </tr>\n",
       "    <tr>\n",
       "      <th>2</th>\n",
       "      <td>spam</td>\n",
       "      <td>Free entry in 2 a wkly comp to win FA Cup fina...</td>\n",
       "    </tr>\n",
       "    <tr>\n",
       "      <th>3</th>\n",
       "      <td>ham</td>\n",
       "      <td>U dun say so early hor... U c already then say...</td>\n",
       "    </tr>\n",
       "    <tr>\n",
       "      <th>4</th>\n",
       "      <td>ham</td>\n",
       "      <td>Nah I don't think he goes to usf, he lives aro...</td>\n",
       "    </tr>\n",
       "    <tr>\n",
       "      <th>5</th>\n",
       "      <td>spam</td>\n",
       "      <td>FreeMsg Hey there darling it's been 3 week's n...</td>\n",
       "    </tr>\n",
       "    <tr>\n",
       "      <th>6</th>\n",
       "      <td>ham</td>\n",
       "      <td>Even my brother is not like to speak with me. ...</td>\n",
       "    </tr>\n",
       "    <tr>\n",
       "      <th>7</th>\n",
       "      <td>ham</td>\n",
       "      <td>As per your request 'Melle Melle (Oru Minnamin...</td>\n",
       "    </tr>\n",
       "    <tr>\n",
       "      <th>8</th>\n",
       "      <td>spam</td>\n",
       "      <td>WINNER!! As a valued network customer you have...</td>\n",
       "    </tr>\n",
       "    <tr>\n",
       "      <th>9</th>\n",
       "      <td>spam</td>\n",
       "      <td>Had your mobile 11 months or more? U R entitle...</td>\n",
       "    </tr>\n",
       "  </tbody>\n",
       "</table>\n",
       "</div>"
      ],
      "text/plain": [
       "  Category                                            Message\n",
       "0      ham  Go until jurong point, crazy.. Available only ...\n",
       "1      ham                      Ok lar... Joking wif u oni...\n",
       "2     spam  Free entry in 2 a wkly comp to win FA Cup fina...\n",
       "3      ham  U dun say so early hor... U c already then say...\n",
       "4      ham  Nah I don't think he goes to usf, he lives aro...\n",
       "5     spam  FreeMsg Hey there darling it's been 3 week's n...\n",
       "6      ham  Even my brother is not like to speak with me. ...\n",
       "7      ham  As per your request 'Melle Melle (Oru Minnamin...\n",
       "8     spam  WINNER!! As a valued network customer you have...\n",
       "9     spam  Had your mobile 11 months or more? U R entitle..."
      ]
     },
     "execution_count": 17,
     "metadata": {},
     "output_type": "execute_result"
    }
   ],
   "source": [
    "data.head(10)"
   ]
  },
  {
   "cell_type": "code",
   "execution_count": 18,
   "id": "d6079cc4",
   "metadata": {},
   "outputs": [
    {
     "data": {
      "text/html": [
       "<div>\n",
       "<style scoped>\n",
       "    .dataframe tbody tr th:only-of-type {\n",
       "        vertical-align: middle;\n",
       "    }\n",
       "\n",
       "    .dataframe tbody tr th {\n",
       "        vertical-align: top;\n",
       "    }\n",
       "\n",
       "    .dataframe thead th {\n",
       "        text-align: right;\n",
       "    }\n",
       "</style>\n",
       "<table border=\"1\" class=\"dataframe\">\n",
       "  <thead>\n",
       "    <tr style=\"text-align: right;\">\n",
       "      <th></th>\n",
       "      <th>Category</th>\n",
       "      <th>Message</th>\n",
       "    </tr>\n",
       "  </thead>\n",
       "  <tbody>\n",
       "    <tr>\n",
       "      <th>count</th>\n",
       "      <td>5572</td>\n",
       "      <td>5572</td>\n",
       "    </tr>\n",
       "    <tr>\n",
       "      <th>unique</th>\n",
       "      <td>2</td>\n",
       "      <td>5169</td>\n",
       "    </tr>\n",
       "    <tr>\n",
       "      <th>top</th>\n",
       "      <td>ham</td>\n",
       "      <td>Sorry, I'll call later</td>\n",
       "    </tr>\n",
       "    <tr>\n",
       "      <th>freq</th>\n",
       "      <td>4825</td>\n",
       "      <td>30</td>\n",
       "    </tr>\n",
       "  </tbody>\n",
       "</table>\n",
       "</div>"
      ],
      "text/plain": [
       "       Category                 Message\n",
       "count      5572                    5572\n",
       "unique        2                    5169\n",
       "top         ham  Sorry, I'll call later\n",
       "freq       4825                      30"
      ]
     },
     "execution_count": 18,
     "metadata": {},
     "output_type": "execute_result"
    }
   ],
   "source": [
    "data.describe()"
   ]
  },
  {
   "cell_type": "code",
   "execution_count": 19,
   "id": "f76b0120",
   "metadata": {},
   "outputs": [
    {
     "name": "stdout",
     "output_type": "stream",
     "text": [
      "<class 'pandas.core.frame.DataFrame'>\n",
      "RangeIndex: 5572 entries, 0 to 5571\n",
      "Data columns (total 2 columns):\n",
      " #   Column    Non-Null Count  Dtype \n",
      "---  ------    --------------  ----- \n",
      " 0   Category  5572 non-null   object\n",
      " 1   Message   5572 non-null   object\n",
      "dtypes: object(2)\n",
      "memory usage: 87.2+ KB\n"
     ]
    }
   ],
   "source": [
    "data.info()"
   ]
  },
  {
   "cell_type": "code",
   "execution_count": 20,
   "id": "5832f038",
   "metadata": {},
   "outputs": [
    {
     "data": {
      "text/plain": [
       "(5572, 2)"
      ]
     },
     "execution_count": 20,
     "metadata": {},
     "output_type": "execute_result"
    }
   ],
   "source": [
    "data.shape"
   ]
  },
  {
   "cell_type": "code",
   "execution_count": 21,
   "id": "3d784491",
   "metadata": {},
   "outputs": [],
   "source": [
    "data.loc[data[\"Category\"] == \"spam\", \"Category\"] = 0\n",
    "data.loc[data[\"Category\"] == \"ham\", \"Category\"] = 1"
   ]
  },
  {
   "cell_type": "code",
   "execution_count": 22,
   "id": "f4b1858d",
   "metadata": {},
   "outputs": [],
   "source": [
    "X = data[\"Message\"]\n",
    "Y = data[\"Category\"]"
   ]
  },
  {
   "cell_type": "code",
   "execution_count": 23,
   "id": "eefda2fd",
   "metadata": {},
   "outputs": [
    {
     "name": "stdout",
     "output_type": "stream",
     "text": [
      "0       Go until jurong point, crazy.. Available only ...\n",
      "1                           Ok lar... Joking wif u oni...\n",
      "2       Free entry in 2 a wkly comp to win FA Cup fina...\n",
      "3       U dun say so early hor... U c already then say...\n",
      "4       Nah I don't think he goes to usf, he lives aro...\n",
      "                              ...                        \n",
      "5567    This is the 2nd time we have tried 2 contact u...\n",
      "5568                Will Ì_ b going to esplanade fr home?\n",
      "5569    Pity, * was in mood for that. So...any other s...\n",
      "5570    The guy did some bitching but I acted like i'd...\n",
      "5571                           Rofl. Its true to its name\n",
      "Name: Message, Length: 5572, dtype: object\n"
     ]
    }
   ],
   "source": [
    "print(X)"
   ]
  },
  {
   "cell_type": "code",
   "execution_count": 24,
   "id": "c6eab883",
   "metadata": {},
   "outputs": [
    {
     "name": "stdout",
     "output_type": "stream",
     "text": [
      "0       1\n",
      "1       1\n",
      "2       0\n",
      "3       1\n",
      "4       1\n",
      "       ..\n",
      "5567    0\n",
      "5568    1\n",
      "5569    1\n",
      "5570    1\n",
      "5571    1\n",
      "Name: Category, Length: 5572, dtype: object\n"
     ]
    }
   ],
   "source": [
    "print(Y)"
   ]
  },
  {
   "cell_type": "code",
   "execution_count": 25,
   "id": "38d22165",
   "metadata": {},
   "outputs": [],
   "source": [
    "X_train, X_test, Y_train, Y_test = train_test_split(X, Y, test_size = 0.2, random_state = 3)"
   ]
  },
  {
   "cell_type": "code",
   "execution_count": 26,
   "id": "f55ad79e",
   "metadata": {},
   "outputs": [],
   "source": [
    "feature_extraction = TfidfVectorizer(min_df=1, stop_words=\"english\", lowercase=True)"
   ]
  },
  {
   "cell_type": "code",
   "execution_count": 31,
   "id": "6ef7f104",
   "metadata": {},
   "outputs": [],
   "source": [
    "X_train_features = feature_extraction.fit_transform(X_train)\n",
    "X_test_features = feature_extraction.transform(X_test)"
   ]
  },
  {
   "cell_type": "code",
   "execution_count": 39,
   "id": "e3165ed1",
   "metadata": {},
   "outputs": [],
   "source": [
    "Y_train = Y_train.astype(\"int\")\n",
    "Y_test = Y_test.astype(\"int\")"
   ]
  },
  {
   "cell_type": "code",
   "execution_count": 40,
   "id": "e4f08057",
   "metadata": {},
   "outputs": [
    {
     "name": "stdout",
     "output_type": "stream",
     "text": [
      "3075    Mum, hope you are having a great day. Hoping t...\n",
      "1787                           Yes:)sura in sun tv.:)lol.\n",
      "1614    Me sef dey laugh you. Meanwhile how's my darli...\n",
      "4304                Yo come over carlos will be here soon\n",
      "3266                    Ok then i come n pick u at engin?\n",
      "                              ...                        \n",
      "789                          Gud mrng dear hav a nice day\n",
      "968             Are you willing to go for aptitude class.\n",
      "1667    So now my dad is gonna call after he gets out ...\n",
      "3321    Ok darlin i supose it was ok i just worry too ...\n",
      "1688                     Nan sonathaya soladha. Why boss?\n",
      "Name: Message, Length: 4457, dtype: object\n"
     ]
    }
   ],
   "source": [
    "print(X_train)"
   ]
  },
  {
   "cell_type": "code",
   "execution_count": 41,
   "id": "dea9009d",
   "metadata": {},
   "outputs": [
    {
     "name": "stdout",
     "output_type": "stream",
     "text": [
      "  (0, 741)\t0.3219352588930141\n",
      "  (0, 3979)\t0.2410582143632299\n",
      "  (0, 4296)\t0.3891385935794867\n",
      "  (0, 6599)\t0.20296878731699391\n",
      "  (0, 3386)\t0.3219352588930141\n",
      "  (0, 2122)\t0.38613577623520473\n",
      "  (0, 3136)\t0.440116181574609\n",
      "  (0, 3262)\t0.25877035357606315\n",
      "  (0, 3380)\t0.21807195185332803\n",
      "  (0, 4513)\t0.2909649098524696\n",
      "  (1, 4061)\t0.380431198316959\n",
      "  (1, 6872)\t0.4306015894277422\n",
      "  (1, 6417)\t0.4769136859540388\n",
      "  (1, 6442)\t0.5652509076654626\n",
      "  (1, 7443)\t0.35056971070320353\n",
      "  (2, 933)\t0.4917598465723273\n",
      "  (2, 2109)\t0.42972812260098503\n",
      "  (2, 3917)\t0.40088501350982736\n",
      "  (2, 2226)\t0.413484525934624\n",
      "  (2, 5825)\t0.4917598465723273\n",
      "  (3, 6140)\t0.4903863168693604\n",
      "  (3, 1599)\t0.5927091854194291\n",
      "  (3, 1842)\t0.3708680641487708\n",
      "  (3, 7453)\t0.5202633571003087\n",
      "  (4, 2531)\t0.7419319091456392\n",
      "  :\t:\n",
      "  (4452, 2122)\t0.31002103760284144\n",
      "  (4453, 999)\t0.6760129013031282\n",
      "  (4453, 7273)\t0.5787739591782677\n",
      "  (4453, 1762)\t0.45610005640082985\n",
      "  (4454, 3029)\t0.42618909997886\n",
      "  (4454, 2086)\t0.3809693742808703\n",
      "  (4454, 3088)\t0.34475593009514444\n",
      "  (4454, 2001)\t0.4166919007849217\n",
      "  (4454, 1049)\t0.31932060116006045\n",
      "  (4454, 7346)\t0.31166263834107377\n",
      "  (4454, 5370)\t0.42618909997886\n",
      "  (4455, 1148)\t0.38998123077430413\n",
      "  (4455, 6433)\t0.38998123077430413\n",
      "  (4455, 6361)\t0.25697343671652706\n",
      "  (4455, 2764)\t0.3226323745940581\n",
      "  (4455, 7358)\t0.2915949626395065\n",
      "  (4455, 7407)\t0.3028481995557642\n",
      "  (4455, 2108)\t0.3136468384526087\n",
      "  (4455, 4251)\t0.30616657078392584\n",
      "  (4455, 3763)\t0.16807158405536876\n",
      "  (4455, 4773)\t0.35860460546223444\n",
      "  (4456, 6117)\t0.5304350313291551\n",
      "  (4456, 6133)\t0.5304350313291551\n",
      "  (4456, 1386)\t0.4460036316446079\n",
      "  (4456, 4557)\t0.48821933148688146\n"
     ]
    }
   ],
   "source": [
    "print(X_train_features)"
   ]
  },
  {
   "cell_type": "code",
   "execution_count": 42,
   "id": "2e227a3c",
   "metadata": {},
   "outputs": [
    {
     "data": {
      "text/html": [
       "<style>#sk-container-id-1 {color: black;}#sk-container-id-1 pre{padding: 0;}#sk-container-id-1 div.sk-toggleable {background-color: white;}#sk-container-id-1 label.sk-toggleable__label {cursor: pointer;display: block;width: 100%;margin-bottom: 0;padding: 0.3em;box-sizing: border-box;text-align: center;}#sk-container-id-1 label.sk-toggleable__label-arrow:before {content: \"▸\";float: left;margin-right: 0.25em;color: #696969;}#sk-container-id-1 label.sk-toggleable__label-arrow:hover:before {color: black;}#sk-container-id-1 div.sk-estimator:hover label.sk-toggleable__label-arrow:before {color: black;}#sk-container-id-1 div.sk-toggleable__content {max-height: 0;max-width: 0;overflow: hidden;text-align: left;background-color: #f0f8ff;}#sk-container-id-1 div.sk-toggleable__content pre {margin: 0.2em;color: black;border-radius: 0.25em;background-color: #f0f8ff;}#sk-container-id-1 input.sk-toggleable__control:checked~div.sk-toggleable__content {max-height: 200px;max-width: 100%;overflow: auto;}#sk-container-id-1 input.sk-toggleable__control:checked~label.sk-toggleable__label-arrow:before {content: \"▾\";}#sk-container-id-1 div.sk-estimator input.sk-toggleable__control:checked~label.sk-toggleable__label {background-color: #d4ebff;}#sk-container-id-1 div.sk-label input.sk-toggleable__control:checked~label.sk-toggleable__label {background-color: #d4ebff;}#sk-container-id-1 input.sk-hidden--visually {border: 0;clip: rect(1px 1px 1px 1px);clip: rect(1px, 1px, 1px, 1px);height: 1px;margin: -1px;overflow: hidden;padding: 0;position: absolute;width: 1px;}#sk-container-id-1 div.sk-estimator {font-family: monospace;background-color: #f0f8ff;border: 1px dotted black;border-radius: 0.25em;box-sizing: border-box;margin-bottom: 0.5em;}#sk-container-id-1 div.sk-estimator:hover {background-color: #d4ebff;}#sk-container-id-1 div.sk-parallel-item::after {content: \"\";width: 100%;border-bottom: 1px solid gray;flex-grow: 1;}#sk-container-id-1 div.sk-label:hover label.sk-toggleable__label {background-color: #d4ebff;}#sk-container-id-1 div.sk-serial::before {content: \"\";position: absolute;border-left: 1px solid gray;box-sizing: border-box;top: 0;bottom: 0;left: 50%;z-index: 0;}#sk-container-id-1 div.sk-serial {display: flex;flex-direction: column;align-items: center;background-color: white;padding-right: 0.2em;padding-left: 0.2em;position: relative;}#sk-container-id-1 div.sk-item {position: relative;z-index: 1;}#sk-container-id-1 div.sk-parallel {display: flex;align-items: stretch;justify-content: center;background-color: white;position: relative;}#sk-container-id-1 div.sk-item::before, #sk-container-id-1 div.sk-parallel-item::before {content: \"\";position: absolute;border-left: 1px solid gray;box-sizing: border-box;top: 0;bottom: 0;left: 50%;z-index: -1;}#sk-container-id-1 div.sk-parallel-item {display: flex;flex-direction: column;z-index: 1;position: relative;background-color: white;}#sk-container-id-1 div.sk-parallel-item:first-child::after {align-self: flex-end;width: 50%;}#sk-container-id-1 div.sk-parallel-item:last-child::after {align-self: flex-start;width: 50%;}#sk-container-id-1 div.sk-parallel-item:only-child::after {width: 0;}#sk-container-id-1 div.sk-dashed-wrapped {border: 1px dashed gray;margin: 0 0.4em 0.5em 0.4em;box-sizing: border-box;padding-bottom: 0.4em;background-color: white;}#sk-container-id-1 div.sk-label label {font-family: monospace;font-weight: bold;display: inline-block;line-height: 1.2em;}#sk-container-id-1 div.sk-label-container {text-align: center;}#sk-container-id-1 div.sk-container {/* jupyter's `normalize.less` sets `[hidden] { display: none; }` but bootstrap.min.css set `[hidden] { display: none !important; }` so we also need the `!important` here to be able to override the default hidden behavior on the sphinx rendered scikit-learn.org. See: https://github.com/scikit-learn/scikit-learn/issues/21755 */display: inline-block !important;position: relative;}#sk-container-id-1 div.sk-text-repr-fallback {display: none;}</style><div id=\"sk-container-id-1\" class=\"sk-top-container\"><div class=\"sk-text-repr-fallback\"><pre>LogisticRegression()</pre><b>In a Jupyter environment, please rerun this cell to show the HTML representation or trust the notebook. <br />On GitHub, the HTML representation is unable to render, please try loading this page with nbviewer.org.</b></div><div class=\"sk-container\" hidden><div class=\"sk-item\"><div class=\"sk-estimator sk-toggleable\"><input class=\"sk-toggleable__control sk-hidden--visually\" id=\"sk-estimator-id-1\" type=\"checkbox\" checked><label for=\"sk-estimator-id-1\" class=\"sk-toggleable__label sk-toggleable__label-arrow\">LogisticRegression</label><div class=\"sk-toggleable__content\"><pre>LogisticRegression()</pre></div></div></div></div></div>"
      ],
      "text/plain": [
       "LogisticRegression()"
      ]
     },
     "execution_count": 42,
     "metadata": {},
     "output_type": "execute_result"
    }
   ],
   "source": [
    "model = LogisticRegression()\n",
    "model.fit(X_train_features,Y_train)"
   ]
  },
  {
   "cell_type": "code",
   "execution_count": 44,
   "id": "eef95520",
   "metadata": {},
   "outputs": [],
   "source": [
    "prediction_on_training_data = model.predict(X_train_features)\n",
    "accuracy_on_training_data = accuracy_score(Y_train, prediction_on_training_data)"
   ]
  },
  {
   "cell_type": "code",
   "execution_count": 45,
   "id": "b622692e",
   "metadata": {},
   "outputs": [
    {
     "name": "stdout",
     "output_type": "stream",
     "text": [
      "Accuracy on training data: 0.9661207089970832\n"
     ]
    }
   ],
   "source": [
    "print(\"Accuracy on training data:\",accuracy_on_training_data)"
   ]
  },
  {
   "cell_type": "code",
   "execution_count": 46,
   "id": "b2515101",
   "metadata": {},
   "outputs": [],
   "source": [
    "prediction_on_test_data = model.predict(X_test_features)\n",
    "accuracy_on_test_data = accuracy_score(Y_test,prediction_on_test_data)"
   ]
  },
  {
   "cell_type": "code",
   "execution_count": 47,
   "id": "4afeafbf",
   "metadata": {},
   "outputs": [
    {
     "name": "stdout",
     "output_type": "stream",
     "text": [
      "Accuracy on test data: 0.9623318385650225\n"
     ]
    }
   ],
   "source": [
    "print(\"Accuracy on test data:\",accuracy_on_test_data)"
   ]
  },
  {
   "cell_type": "code",
   "execution_count": 51,
   "id": "194a1d7b",
   "metadata": {},
   "outputs": [
    {
     "name": "stdout",
     "output_type": "stream",
     "text": [
      "[0]\n",
      "Spam Mail\n"
     ]
    }
   ],
   "source": [
    "input_your_mail = [\"Congratulations! You have won cash prize!\"]\n",
    "input_data_features = feature_extraction.transform(input_your_mail)\n",
    "prediction = model.predict(input_data_features)\n",
    "print(prediction)\n",
    "\n",
    "\n",
    "# Print the prediction result\n",
    "\n",
    "if (prediction)[0] == 1:\n",
    "  print(\"Ham Mail\")\n",
    "else:\n",
    "  print(\"Spam Mail\")"
   ]
  },
  {
   "cell_type": "code",
   "execution_count": 52,
   "id": "433af53c",
   "metadata": {},
   "outputs": [
    {
     "name": "stdout",
     "output_type": "stream",
     "text": [
      "[1]\n",
      "Ham Mail\n"
     ]
    }
   ],
   "source": [
    "input_your_mail = [\"It was great meeting you\"]\n",
    "input_data_features = feature_extraction.transform(input_your_mail)\n",
    "prediction = model.predict(input_data_features)\n",
    "print(prediction)\n",
    "\n",
    "\n",
    "# Print the prediction result\n",
    "\n",
    "if (prediction)[0] == 1:\n",
    "  print(\"Ham Mail\")\n",
    "else:\n",
    "  print(\"Spam Mail\")"
   ]
  },
  {
   "cell_type": "code",
   "execution_count": 58,
   "id": "764b33a5",
   "metadata": {},
   "outputs": [
    {
     "data": {
      "image/png": "[encoded data removed]",
      "text/plain": [
       "<Figure size 640x480 with 1 Axes>"
      ]
     },
     "metadata": {},
     "output_type": "display_data"
    }
   ],
   "source": [
    "spam_count = data[data['Category'] == 0].shape[0]\n",
    "ham_count = data[data['Category'] == 1].shape[0]\n",
    "mylabels = [\"spam\", \"ham\"]\n",
    "\n",
    "plt.pie([spam_count, ham_count],labels = mylabels)\n",
    "plt.xlabel('Email Type')\n",
    "plt.ylabel('Count')\n",
    "plt.title('Distribution of Spam and Ham Emails')\n",
    "plt.show()"
   ]
  },
  {
   "cell_type": "code",
   "execution_count": 67,
   "id": "c0c78e2c",
   "metadata": {},
   "outputs": [
    {
     "data": {
      "image/png": "[encoded data removed]",
      "text/plain": [
       "<Figure size 500x300 with 1 Axes>"
      ]
     },
     "metadata": {},
     "output_type": "display_data"
    }
   ],
   "source": [
    "cm = confusion_matrix(Y_test, prediction_on_test_data)\n",
    "\n",
    "plt.figure(figsize=(5, 3))\n",
    "sns.heatmap(cm, annot=True, fmt=\"d\", cmap='Greens', cbar=False)\n",
    "plt.xlabel('Predicted')\n",
    "plt.ylabel('True')\n",
    "plt.title('Confusion Matrix')\n",
    "plt.show()"
   ]
  },
  {
   "cell_type": "code",
   "execution_count": 68,
   "id": "fb9d107d",
   "metadata": {},
   "outputs": [
    {
     "data": {
      "image/png": "[encoded data removed]",
      "text/plain": [
       "<Figure size 600x400 with 1 Axes>"
      ]
     },
     "metadata": {},
     "output_type": "display_data"
    }
   ],
   "source": [
    "probabilities = model.predict_proba(X_test_features)[:, 1]\n",
    "fpr, tpr, thresholds = roc_curve(Y_test, probabilities)\n",
    "roc_auc = roc_auc_score(Y_test, probabilities)\n",
    "\n",
    "plt.figure(figsize=(6, 4))\n",
    "plt.plot(fpr, tpr, label=f'ROC curve (AUC = {roc_auc:.2f})')\n",
    "plt.plot([0, 1], [0, 1], 'k--', label='Random Guess')\n",
    "plt.xlabel('False Positive Rate')\n",
    "plt.ylabel('True Positive Rate')\n",
    "plt.title('Receiver Operating Characteristic (ROC) Curve')\n",
    "plt.legend()\n",
    "plt.show()"
   ]
  },
  {
   "cell_type": "code",
   "execution_count": 69,
   "id": "ed9af9cd",
   "metadata": {},
   "outputs": [
    {
     "data": {
      "image/png": "[encoded data removed]",
      "text/plain": [
       "<Figure size 1000x600 with 1 Axes>"
      ]
     },
     "metadata": {},
     "output_type": "display_data"
    }
   ],
   "source": [
    "stop_words = set(stopwords.words('english'))\n",
    "spam_words = \" \".join(data[data['Category'] == 0]['Message']).split()\n",
    "ham_words = \" \".join(data[data['Category'] == 1]['Message']).split()\n",
    "\n",
    "spam_word_freq = Counter([word.lower() for word in spam_words if word.lower() not in stop_words and word.isalpha()])\n",
    "\n",
    "plt.figure(figsize=(10, 6))\n",
    "plt.bar(*zip(*spam_word_freq.most_common(10)), color='b')\n",
    "plt.xlabel('Words')\n",
    "plt.ylabel('Frequency')\n",
    "plt.title('Top 10 Most Common Words in Spam Emails')\n",
    "plt.xticks(rotation=45)\n",
    "plt.show()"
   ]
  },
  {
   "cell_type": "code",
   "execution_count": null,
   "id": "0107a63b",
   "metadata": {},
   "outputs": [],
   "source": []
  }
 ],
 "metadata": {
  "kernelspec": {
   "display_name": "Python 3 (ipykernel)",
   "language": "python",
   "name": "python3"
  },
  "language_info": {
   "codemirror_mode": {
    "name": "ipython",
    "version": 3
   },
   "file_extension": ".py",
   "mimetype": "text/x-python",
   "name": "python",
   "nbconvert_exporter": "python",
   "pygments_lexer": "ipython3",
   "version": "3.8.7"
  }
 },
 "nbformat": 4,
 "nbformat_minor": 5
}
